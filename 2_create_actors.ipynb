{
 "cells": [
  {
   "cell_type": "code",
   "execution_count": null,
   "metadata": {},
   "outputs": [],
   "source": []
  },
  {
   "cell_type": "markdown",
   "metadata": {
    "id": "TIve0W2GQ6GC"
   },
   "source": [
    "> Note: Some core features of SAPIEN are not available on Colab, including the interactive viewer and ray-tracing functionalities. You need to run SAPIEN locally for full features. A more comprehensive tutorial including features that are only available to local environment can be found at [SAPIEN's documentation](https://sapien.ucsd.edu/docs/2.2/index.html)."
   ]
  },
  {
   "cell_type": "markdown",
   "metadata": {
    "id": "Ew9h-cEhNYUB"
   },
   "source": [
    "# Tutorial 2: Create Actors"
   ]
  },
  {
   "cell_type": "markdown",
   "metadata": {
    "id": "1caKky_CNZ6A"
   },
   "source": [
    "SAPIEN simulates rigid body dynamics. In SAPIEN, **actor** is an alias of rigid body.\n",
    "\n",
    "In this tutorial, you will learn the following:\n",
    "\n",
    "- Create `Actor` using primitives (box, sphere, capsule)\n",
    "- Use `Pose` to set the pose of an actor"
   ]
  },
  {
   "cell_type": "markdown",
   "metadata": {
    "id": "-IXA-7qRy4ML"
   },
   "source": [
    "## Preparation"
   ]
  },
  {
   "cell_type": "markdown",
   "metadata": {
    "id": "ssNPcLKYDoDH"
   },
   "source": [
    "**Note: you need GPU runtime to run the notebook.**"
   ]
  },
  {
   "cell_type": "code",
   "execution_count": 1,
   "metadata": {
    "id": "qIDL-wHKzKQ5"
   },
   "outputs": [
    {
     "name": "stdout",
     "output_type": "stream",
     "text": [
      "Defaulting to user installation because normal site-packages is not writeable\n",
      "Requirement already satisfied: sapien in /home/fx/.local/lib/python3.10/site-packages (2.2.0)\n",
      "Requirement already satisfied: numpy>=1.17 in /usr/lib/python3.10/site-packages (from sapien) (1.24.1)\n",
      "Requirement already satisfied: opencv-python>=4.0 in /home/fx/.local/lib/python3.10/site-packages (from sapien) (4.6.0.66)\n",
      "Requirement already satisfied: requests>=2.22 in /usr/lib/python3.10/site-packages (from sapien) (2.28.1)\n",
      "Requirement already satisfied: transforms3d>=0.3 in /home/fx/.local/lib/python3.10/site-packages (from sapien) (0.4.1)\n",
      "Requirement already satisfied: idna<4,>=2.5 in /usr/lib/python3.10/site-packages (from requests>=2.22->sapien) (3.4)\n",
      "Requirement already satisfied: urllib3<1.27,>=1.21.1 in /usr/lib/python3.10/site-packages (from requests>=2.22->sapien) (1.26.12)\n",
      "Note: you may need to restart the kernel to use updated packages.\n"
     ]
    }
   ],
   "source": [
    "%pip install sapien\n",
    "import sapien.core as sapien\n",
    "import numpy as np\n",
    "from PIL import Image"
   ]
  },
  {
   "cell_type": "markdown",
   "metadata": {
    "id": "T_SxQ1F8TS3b"
   },
   "source": [
    "Before we start, let's set up the simulation engine and renderer, and add the ground to our scene."
   ]
  },
  {
   "cell_type": "code",
   "execution_count": 2,
   "metadata": {
    "id": "RU5_xJTuTi20"
   },
   "outputs": [
    {
     "data": {
      "text/plain": [
       "Actor(name=\"ground\", id=\"1\")"
      ]
     },
     "execution_count": 2,
     "metadata": {},
     "output_type": "execute_result"
    }
   ],
   "source": [
    "# Set up simulation engine and renderer\n",
    "engine = sapien.Engine()\n",
    "renderer = sapien.SapienRenderer()\n",
    "engine.set_renderer(renderer)\n",
    "\n",
    "scene = engine.create_scene()\n",
    "scene.set_timestep(1 / 100.0)\n",
    "\n",
    "scene.add_ground(altitude=0)  # The ground is in fact a special actor."
   ]
  },
  {
   "cell_type": "markdown",
   "metadata": {
    "id": "_bHKFe3OODoG"
   },
   "source": [
    "## Create an actor by a single primitive"
   ]
  },
  {
   "cell_type": "markdown",
   "metadata": {
    "id": "C4ZGb8Y1OF2E"
   },
   "source": [
    "The primitives supported by SAPIEN include box, sphere and capsule. Let's see an example about how to create a box."
   ]
  },
  {
   "cell_type": "code",
   "execution_count": 3,
   "metadata": {
    "id": "0QeAYM3SOGtm"
   },
   "outputs": [],
   "source": [
    "def create_box(\n",
    "        scene: sapien.Scene,\n",
    "        pose: sapien.Pose,\n",
    "        half_size,\n",
    "        color=None,\n",
    "        name='',\n",
    ") -> sapien.Actor:\n",
    "    \"\"\"Create a box.\n",
    "\n",
    "    Args:\n",
    "        scene: sapien.Scene to create a box.\n",
    "        pose: 6D pose of the box.\n",
    "        half_size: [3], half size along x, y, z axes.\n",
    "        color: [3] or [4], rgb or rgba\n",
    "        name: name of the actor.\n",
    "\n",
    "    Returns:\n",
    "        sapien.Actor\n",
    "    \"\"\"\n",
    "    half_size = np.array(half_size)\n",
    "    builder: sapien.ActorBuilder = scene.create_actor_builder()\n",
    "    builder.add_box_collision(half_size=half_size)  # Add collision shape\n",
    "    builder.add_box_visual(half_size=half_size, color=color)  # Add visual shape\n",
    "    box: sapien.Actor = builder.build(name=name)\n",
    "    # Or you can set_name after building the actor\n",
    "    # box.set_name(name)\n",
    "    box.set_pose(pose)\n",
    "    return box"
   ]
  },
  {
   "cell_type": "markdown",
   "metadata": {
    "id": "Lrar2qyAOP0J"
   },
   "source": [
    "`Actor` (or rigid body) is created through `ActorBuilder` in SAPIEN. An actor consists of both collision shapes (used for physical simulation) and visual shapes (used for rendering). You can call `add_box_collision` and `add_box_visual` to add collision and visual shapes of an box respectively."
   ]
  },
  {
   "cell_type": "markdown",
   "metadata": {
    "id": "DJkjnBEIOX-O"
   },
   "source": [
    "> Note: Collision shapes do not necessarily correspond to visual shapes. For example, you might have a simple collision shape for fast simulation, but a complicated visual shape for realistic rendering."
   ]
  },
  {
   "cell_type": "markdown",
   "metadata": {
    "id": "6mhNM2SAPVNn"
   },
   "source": [
    "Then, you might create a box as follows:"
   ]
  },
  {
   "cell_type": "code",
   "execution_count": 4,
   "metadata": {
    "id": "06Rl0Gb8PVbo"
   },
   "outputs": [],
   "source": [
    "box = create_box(\n",
    "    scene,\n",
    "    sapien.Pose(p=[0, 0, 1.0 + 0.05]),\n",
    "    half_size=[0.05, 0.05, 0.05],\n",
    "    color=[1., 0., 0.],\n",
    "    name='box',\n",
    ")"
   ]
  },
  {
   "cell_type": "markdown",
   "metadata": {
    "id": "GfmQRHQXUoEB"
   },
   "source": [
    "> `sapien.Pose` takes two parameters, `p` and `q`, to construct. The `p` parameter is a three-dimensional translation vector that specifies that position of the actor, and `q` is a four-dimensional quarternion that specifies the orientation of the actor."
   ]
  },
  {
   "cell_type": "markdown",
   "metadata": {
    "id": "nm7-WN_iX3Q9"
   },
   "source": [
    "Similarly, we can create a sphere and a capsule in our scene."
   ]
  },
  {
   "cell_type": "code",
   "execution_count": 5,
   "metadata": {
    "id": "xjNWwfS8X7jn"
   },
   "outputs": [],
   "source": [
    "def create_sphere(\n",
    "        scene: sapien.Scene,\n",
    "        pose: sapien.Pose,\n",
    "        radius,\n",
    "        color=None,\n",
    "        name='',\n",
    ") -> sapien.Actor:\n",
    "    \"\"\"Create a sphere. See create_box.\"\"\"\n",
    "    builder = scene.create_actor_builder()\n",
    "    builder.add_sphere_collision(radius=radius)\n",
    "    builder.add_sphere_visual(radius=radius, color=color)\n",
    "    sphere = builder.build(name=name)\n",
    "    sphere.set_pose(pose)\n",
    "    return sphere\n",
    "\n",
    "\n",
    "def create_capsule(\n",
    "        scene: sapien.Scene,\n",
    "        pose: sapien.Pose,\n",
    "        radius,\n",
    "        half_length,\n",
    "        color=None,\n",
    "        name='',\n",
    ") -> sapien.Actor:\n",
    "    \"\"\"Create a capsule (x-axis <-> half_length). See create_box.\"\"\"\n",
    "    builder = scene.create_actor_builder()\n",
    "    builder.add_capsule_collision(radius=radius, half_length=half_length)\n",
    "    builder.add_capsule_visual(radius=radius, half_length=half_length, color=color)\n",
    "    capsule = builder.build(name=name)\n",
    "    capsule.set_pose(pose)\n",
    "    return capsule"
   ]
  },
  {
   "cell_type": "code",
   "execution_count": 6,
   "metadata": {
    "id": "ov4WE8t_X997"
   },
   "outputs": [],
   "source": [
    "sphere = create_sphere(\n",
    "    scene,\n",
    "    sapien.Pose(p=[0, -0.2, 1.0 + 0.05]),\n",
    "    radius=0.05,\n",
    "    color=[0., 1., 0.],\n",
    "    name='sphere',\n",
    ")\n",
    "\n",
    "capsule = create_capsule(\n",
    "    scene,\n",
    "    sapien.Pose(p=[0, 0.2, 1.0 + 0.05]),\n",
    "    radius=0.05,\n",
    "    half_length=0.05,\n",
    "    color=[0., 0., 1.],\n",
    "    name='capsule',\n",
    ")"
   ]
  },
  {
   "cell_type": "markdown",
   "metadata": {
    "id": "3ULlYtFfPyUV"
   },
   "source": [
    "## Create an actor by multiple primitives"
   ]
  },
  {
   "cell_type": "markdown",
   "metadata": {
    "id": "bmCx11fMP0WY"
   },
   "source": [
    "Next, we show an example to create an actor (table) by multiple boxes (a tabletop with four legs)."
   ]
  },
  {
   "cell_type": "code",
   "execution_count": 7,
   "metadata": {
    "id": "lo3eYh-8P06n"
   },
   "outputs": [],
   "source": [
    "def create_table(\n",
    "        scene: sapien.Scene,\n",
    "        pose: sapien.Pose,\n",
    "        size,\n",
    "        height,\n",
    "        thickness=0.1,\n",
    "        color=(0.8, 0.6, 0.4),\n",
    "        name='table',\n",
    ") -> sapien.Actor:\n",
    "    \"\"\"Create a table (a collection of collision and visual shapes).\"\"\"\n",
    "    builder = scene.create_actor_builder()\n",
    "    \n",
    "    # Tabletop\n",
    "    tabletop_pose = sapien.Pose([0., 0., -thickness / 2])  # Make the top surface's z equal to 0\n",
    "    tabletop_half_size = [size / 2, size / 2, thickness / 2]\n",
    "    builder.add_box_collision(pose=tabletop_pose, half_size=tabletop_half_size)\n",
    "    builder.add_box_visual(pose=tabletop_pose, half_size=tabletop_half_size, color=color)\n",
    "    \n",
    "    # Table legs (x4)\n",
    "    for i in [-1, 1]:\n",
    "        for j in [-1, 1]:\n",
    "            x = i * (size - thickness) / 2\n",
    "            y = j * (size - thickness) / 2\n",
    "            table_leg_pose = sapien.Pose([x, y, -height / 2])\n",
    "            table_leg_half_size = [thickness / 2, thickness / 2, height / 2]\n",
    "            builder.add_box_collision(pose=table_leg_pose, half_size=table_leg_half_size)\n",
    "            builder.add_box_visual(pose=table_leg_pose, half_size=table_leg_half_size, color=color)\n",
    "\n",
    "    table = builder.build(name=name)\n",
    "    table.set_pose(pose)\n",
    "    return table"
   ]
  },
  {
   "cell_type": "code",
   "execution_count": 8,
   "metadata": {
    "id": "h3KXZ0WvZmXP"
   },
   "outputs": [],
   "source": [
    "table = create_table(\n",
    "    scene,\n",
    "    sapien.Pose(p=[0, 0, 1.0]),\n",
    "    size=1.0,\n",
    "    height=1.0,\n",
    ")"
   ]
  },
  {
   "cell_type": "markdown",
   "metadata": {
    "id": "q6GQ7jBaSl3V"
   },
   "source": [
    "We can call `add_box_collision(pose=Pose(...), ...)` to set the pose of a collision shape in the actor frame. Similarly, we can call `add_box_visual(pose=Pose(...), ...)` for a visual shape. Note that `table.set_pose(pose)` sets the pose of the actor in the **world frame**."
   ]
  },
  {
   "cell_type": "markdown",
   "metadata": {
    "id": "9Af6lsg-YKgt"
   },
   "source": [
    "## Visualization"
   ]
  },
  {
   "cell_type": "markdown",
   "metadata": {
    "id": "Hd_lAHkLZGGo"
   },
   "source": [
    "Let's visualize the scene as we did before:"
   ]
  },
  {
   "cell_type": "code",
   "execution_count": 9,
   "metadata": {
    "id": "32ph19HcZPsk"
   },
   "outputs": [
    {
     "data": {
      "image/png": "[encoded data removed]",
      "text/plain": [
       "<PIL.Image.Image image mode=RGB size=1024x768>"
      ]
     },
     "execution_count": 9,
     "metadata": {},
     "output_type": "execute_result"
    }
   ],
   "source": [
    "scene.set_ambient_light([0.5, 0.5, 0.5])\n",
    "scene.add_directional_light([0, 1, -1], [0.5, 0.5, 0.5])\n",
    "\n",
    "camera = scene.add_camera(name='camera', width=1024, height=768, fovy=1.57, near=0.1, far=100)\n",
    "camera.set_pose(sapien.Pose([-1.04541, 0, 1.54541], [0.92388, 0, 0.382683, 0]))\n",
    "\n",
    "scene.step()\n",
    "scene.update_render()\n",
    "camera.take_picture()\n",
    "rgba = camera.get_color_rgba()\n",
    "\n",
    "rgb = rgba[..., :3]\n",
    "Image.fromarray((rgb*255).astype(np.uint8))"
   ]
  },
  {
   "cell_type": "markdown",
   "metadata": {
    "id": "e-gJVWH1aNTt"
   },
   "source": [
    "## Remove an actor"
   ]
  },
  {
   "cell_type": "markdown",
   "metadata": {
    "id": "3sfWQ8A8aVj5"
   },
   "source": [
    "After an actor is built with `actor = builder.build()`, You can call `scene.remove_actor(actor)` to remove it. Using a removed actor will result in undefined behavior (usually a crash)."
   ]
  },
  {
   "cell_type": "code",
   "execution_count": 11,
   "metadata": {
    "id": "UNA_7JpvaOso"
   },
   "outputs": [
    {
     "data": {
      "image/png": "[encoded data removed]",
      "text/plain": [
       "<PIL.Image.Image image mode=RGB size=1024x768>"
      ]
     },
     "execution_count": 11,
     "metadata": {},
     "output_type": "execute_result"
    }
   ],
   "source": [
    "scene.remove_actor(box) # Remove the box\n",
    "\n",
    "scene.step()\n",
    "scene.update_render()\n",
    "camera.take_picture()\n",
    "rgba = camera.get_color_rgba()\n",
    "\n",
    "rgb = rgba[..., :3]\n",
    "Image.fromarray((rgb*255).astype(np.uint8))"
   ]
  },
  {
   "cell_type": "markdown",
   "metadata": {
    "id": "49gRf1QdahPb"
   },
   "source": [
    "## Create an actor by a mesh file"
   ]
  },
  {
   "cell_type": "markdown",
   "metadata": {
    "id": "McNZwIyaakGo"
   },
   "source": [
    "In SAPIEN, you can also create an actor from the mesh file. For more information, please refer to the comprehensive tutorial linked at the top of the notebook."
   ]
  }
 ],
 "metadata": {
  "accelerator": "GPU",
  "colab": {
   "authorship_tag": "ABX9TyN97MPcMibDrdMiea+ZZPQX",
   "provenance": []
  },
  "gpuClass": "standard",
  "kernelspec": {
   "display_name": "Python 3 (ipykernel)",
   "language": "python",
   "name": "python3"
  },
  "language_info": {
   "codemirror_mode": {
    "name": "ipython",
    "version": 3
   },
   "file_extension": ".py",
   "mimetype": "text/x-python",
   "name": "python",
   "nbconvert_exporter": "python",
   "pygments_lexer": "ipython3",
   "version": "3.10.9"
  }
 },
 "nbformat": 4,
 "nbformat_minor": 1
}
