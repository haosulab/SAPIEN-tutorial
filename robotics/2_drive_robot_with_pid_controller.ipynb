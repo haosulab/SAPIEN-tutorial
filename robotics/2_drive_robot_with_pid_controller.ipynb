{
 "cells": [
  {
   "attachments": {},
   "cell_type": "markdown",
   "metadata": {},
   "source": [
    "<a href=\"https://colab.research.google.com/github/haosulab/SAPIEN-tutorial/blob/master/robotics/2_drive_robot_with_pid_controller.ipynb\"><img src=\"https://colab.research.google.com/assets/colab-badge.svg\" alt=\"Open In Colab\"/></a>"
   ]
  },
  {
   "attachments": {},
   "cell_type": "markdown",
   "metadata": {},
   "source": [
    "> Note: Some core features of SAPIEN are not available on Colab, including the interactive viewer and ray-tracing functionalities. You need to run SAPIEN locally for full features. You can also find the latest SAPIEN tutorial at [SAPIEN's documentation](https://sapien.ucsd.edu/docs/latest/index.html)."
   ]
  },
  {
   "attachments": {},
   "cell_type": "markdown",
   "metadata": {},
   "source": [
    "# Robotics Tutorial 2: Drive Robot with PID Controller"
   ]
  },
  {
   "attachments": {},
   "cell_type": "markdown",
   "metadata": {},
   "source": [
    "A fundamental problem in robotics is how to apply forces on the joints of a robot to drive them to target positions. Such low-level control is the basis for applications, e.g., following a trajectory.\n",
    "\n",
    "In this tutorial, you will learn the following:\n",
    "\n",
    "- Drive the robot with the PhysX internal PD controller\n",
    "- Write your own PID controller"
   ]
  },
  {
   "cell_type": "markdown",
   "metadata": {
    "id": "-IXA-7qRy4ML"
   },
   "source": [
    "## Preparation"
   ]
  },
  {
   "attachments": {},
   "cell_type": "markdown",
   "metadata": {
    "id": "ssNPcLKYDoDH"
   },
   "source": [
    "> Note: you need GPU runtime to run the notebook."
   ]
  },
  {
   "cell_type": "code",
   "execution_count": null,
   "metadata": {
    "id": "qIDL-wHKzKQ5"
   },
   "outputs": [],
   "source": [
    "%pip install sapien\n",
    "\n",
    "import sapien.core as sapien\n",
    "import numpy as np\n",
    "import matplotlib.pyplot as plt\n",
    "import os\n",
    "from PIL import Image\n",
    "\n",
    "try:\n",
    "    import google.colab\n",
    "    IN_COLAB = True\n",
    "except:\n",
    "    IN_COLAB = False\n",
    "\n",
    "%matplotlib inline"
   ]
  },
  {
   "attachments": {},
   "cell_type": "markdown",
   "metadata": {},
   "source": [
    "## Setup"
   ]
  },
  {
   "attachments": {},
   "cell_type": "markdown",
   "metadata": {},
   "source": [
    "As before, we first set up the simulation world. Note that we decrease the timestep, which is helpful for the simple PID controller implemented in this example."
   ]
  },
  {
   "cell_type": "code",
   "execution_count": null,
   "metadata": {},
   "outputs": [],
   "source": [
    "engine = sapien.Engine()\n",
    "engine.set_log_level(\"critical\")\n",
    "renderer = sapien.SapienRenderer()\n",
    "engine.set_renderer(renderer)\n",
    "\n",
    "scene_config = sapien.SceneConfig()\n",
    "scene = engine.create_scene(scene_config)\n",
    "# A small timestep for higher control accuracy\n",
    "scene.set_timestep(1 / 2000.0)\n",
    "scene.add_ground(0)\n",
    "\n",
    "scene.set_ambient_light([0.5, 0.5, 0.5])\n",
    "scene.add_directional_light([0, 1, -1], [0.5, 0.5, 0.5])\n",
    "camera = scene.add_camera(name='camera', width=1024, height=768, fovy=1.57, near=0.1, far=100)\n",
    "camera.set_pose(sapien.Pose([-1.3, 0, 0.8], [0.988771, 0, 0.149438, 0]))\n",
    "\n",
    "# Load URDF\n",
    "if IN_COLAB:\n",
    "    !gdown -q 10-ASSF6hiMLoMfajrTBMNn_U3YyP6-sl\n",
    "    !unzip -o -q jaco2.zip\n",
    "    assets_dir = \".\"\n",
    "else:\n",
    "    assets_dir = \"../assets\"\n",
    "loader = scene.create_urdf_loader()\n",
    "robot = loader.load(os.path.join(assets_dir, \"jaco2/jaco2.urdf\"))\n",
    "robot.set_root_pose(sapien.Pose([0, 0, 0], [1, 0, 0, 0]))\n",
    "\n",
    "# Set joint positions\n",
    "arm_zero_qpos = [0, 3.14, 0, 3.14, 0, 3.14, 0]\n",
    "gripper_init_qpos = [0, 0, 0, 0, 0, 0]\n",
    "zero_qpos = arm_zero_qpos + gripper_init_qpos\n",
    "robot.set_qpos(zero_qpos)\n",
    "arm_target_qpos = [4.71, 2.84, 0.0, 0.75, 4.62, 4.48, 4.88]\n",
    "target_qpos = arm_target_qpos + gripper_init_qpos"
   ]
  },
  {
   "attachments": {},
   "cell_type": "markdown",
   "metadata": {},
   "source": [
    "## Drive the robot with the PhysX internal PD controller"
   ]
  },
  {
   "attachments": {},
   "cell_type": "markdown",
   "metadata": {},
   "source": [
    "SAPIEN provides builtin PhysX **drives** (controllers) to control either the position or speed of a joint. For each active joint (with non-zero degree of freedom), we can call `set_drive_property(...)` to set its drive properties: `stiffness` and `damping`."
   ]
  },
  {
   "cell_type": "code",
   "execution_count": null,
   "metadata": {},
   "outputs": [],
   "source": [
    "active_joints = robot.get_active_joints()\n",
    "for joint_idx, joint in enumerate(active_joints):\n",
    "    joint.set_drive_property(stiffness=20, damping=5)\n",
    "    joint.set_drive_target(target_qpos[joint_idx])\n",
    "# Or you can directly set joint targets for an articulation\n",
    "# robot.set_drive_target(target_qpos)"
   ]
  },
  {
   "attachments": {},
   "cell_type": "markdown",
   "metadata": {},
   "source": [
    "The drive is a **proportional derivative drive**, which applies a force as follows:\n",
    "\n",
    "***force = stiffness * (targetPosition - position) + damping * (targetVelocity - velocity)***\n",
    "\n",
    "The `stiffness` and `damping` can be regarded as the **P** and **D** term in a typical [PID controller](https://en.wikipedia.org/wiki/PID_controller). They implies the extent to which the drive attempts to achieve the target position and velocity respectively.\n",
    "\n",
    "> Note: The parameters (`stiffness` and `damping`) for the internal drive in this example can not be directly used for downstream tasks like manipulation.\n",
    ">\n",
    "> The PhysX backend in fact integrates the drive into the PhysX solver. The force applied will be computed implicitly every simulation step.\n",
    "\n",
    "The initial target position and velocity of a joint are zero by default. You can call `joint.set_drive_target(...)` to set the target position of a joint, or `robot.set_drive_target(...)` to set the target positions of all the joints of the robot. Similarly, you can also call `set_drive_velocity_target(...)` to set the target velocity.\n",
    "\n",
    "> Note: If you do not balance the passive force, e.g. gravity, the robot can never reach the desired pose (but maybe a close pose) given in `set_drive_target` due to steady-state-error."
   ]
  },
  {
   "attachments": {},
   "cell_type": "markdown",
   "metadata": {},
   "source": [
    "## Write Your own PID controller"
   ]
  },
  {
   "attachments": {},
   "cell_type": "markdown",
   "metadata": {},
   "source": [
    "You can write your own PID controller, if you need an integrator term I to compensate some steady-state-error which can not be compensated by `compensate_passive_force`. Here we provide a very simple implementation:"
   ]
  },
  {
   "cell_type": "code",
   "execution_count": null,
   "metadata": {},
   "outputs": [],
   "source": [
    "class SimplePID:\n",
    "    def __init__(self, kp=0.0, ki=0.0, kd=0.0):\n",
    "        self.p = kp\n",
    "        self.i = ki\n",
    "        self.d = kd\n",
    "\n",
    "        self._cp = 0\n",
    "        self._ci = 0\n",
    "        self._cd = 0\n",
    "\n",
    "        self._last_error = 0\n",
    "\n",
    "    def compute(self, current_error, dt):\n",
    "        self._cp = current_error\n",
    "        self._ci += current_error * dt\n",
    "        self._cd = (current_error - self._last_error) / dt\n",
    "        self._last_error = current_error\n",
    "        signal = (self.p * self._cp) + \\\n",
    "            (self.i * self._ci) + (self.d * self._cd)\n",
    "        return signal"
   ]
  },
  {
   "cell_type": "code",
   "execution_count": null,
   "metadata": {},
   "outputs": [],
   "source": [
    "active_joints = robot.get_active_joints()\n",
    "pids = []\n",
    "pid_parameters = [\n",
    "    (40, 5, 2), (40, 5, 2), (40, 5, 2), (20, 5.0, 2),\n",
    "    (5, 0.8, 2), (5, 0.8, 2), (5, 0.8, 0.4),\n",
    "    (0.1, 0, 0.02), (0.1, 0, 0.02), (0.1, 0, 0.02),\n",
    "    (0.1, 0, 0.02), (0.1, 0, 0.02), (0.1, 0, 0.02),\n",
    "]\n",
    "for i, joint in enumerate(active_joints):\n",
    "    pids.append(SimplePID(*pid_parameters[i]))\n",
    "\n",
    "def pid_forward(\n",
    "    pids: list, target_pos: np.ndarray, current_pos: np.ndarray, dt: float\n",
    ") -> np.ndarray:\n",
    "    errors = target_pos - current_pos\n",
    "    qf = [pid.compute(error, dt) for pid, error in zip(pids, errors)]\n",
    "    return np.array(qf)"
   ]
  },
  {
   "attachments": {},
   "cell_type": "markdown",
   "metadata": {},
   "source": [
    "This is only an example implementation, and the parameters are not carefully tuned. You can try to add extra tricks for integration or error propagation, to improve the stability of your own controller. The way of adding PID control during the simulation will be demonstrated in the next section."
   ]
  },
  {
   "attachments": {},
   "cell_type": "markdown",
   "metadata": {},
   "source": [
    "> Note: In most cases, it is recommended to use the internal drive rather than your own PID. The PhysX internal drive is much more efficient and stable when the parameters are not carefully tuned."
   ]
  },
  {
   "attachments": {},
   "cell_type": "markdown",
   "metadata": {},
   "source": [
    "## Visualization"
   ]
  },
  {
   "attachments": {},
   "cell_type": "markdown",
   "metadata": {},
   "source": [
    "Let's see what will happen if we run the simulation loop. Run the following cell and you will see 10 screenshots of the robot during the simulation. If you are running locally, an additional viewer window will be shown to display the animation of the simulation. You can change the `use_external_pid` variable and rerun the notebook to turn on/turn off our simple PID controller defined in previous section. If you want to disable internal controller to see how well the simple PID controller works independently, you can skip the cell where we enable internal drive when rerunning."
   ]
  },
  {
   "cell_type": "code",
   "execution_count": null,
   "metadata": {},
   "outputs": [],
   "source": [
    "use_external_pid = False"
   ]
  },
  {
   "cell_type": "code",
   "execution_count": null,
   "metadata": {},
   "outputs": [],
   "source": [
    "plt.figure(figsize=(15, 6))\n",
    "print(\"robot target qpos: \", target_qpos)\n",
    "\n",
    "if IN_COLAB:\n",
    "    for steps in range(2000):\n",
    "        qf = robot.compute_passive_force(gravity=True, coriolis_and_centrifugal=True)\n",
    "        \n",
    "        if use_external_pid: # Enable simple PID controller\n",
    "            pid_qf = pid_forward(pids, target_qpos, robot.get_qpos(), scene.get_timestep())\n",
    "            qf += pid_qf\n",
    "        \n",
    "        robot.set_qf(qf)\n",
    "\n",
    "        scene.step()\n",
    "\n",
    "        if steps % 200 == 0:\n",
    "            scene.update_render()\n",
    "            camera.take_picture()\n",
    "            rgba = camera.get_color_rgba()\n",
    "            plt.subplot(2, 5, steps//200+1)\n",
    "            plt.imshow(rgba[..., :3])\n",
    "    \n",
    "    print(\"robot qpos at steps 1999: \", robot.get_qpos())\n",
    "else:\n",
    "    from sapien.utils import Viewer\n",
    "    viewer = Viewer(renderer)\n",
    "    viewer.set_scene(scene)\n",
    "    viewer.set_camera_xyz(x=-1.2, y=0, z=0.8)\n",
    "    viewer.set_camera_rpy(r=0, p=-0.3, y=0)\n",
    "\n",
    "    steps = 0\n",
    "    while not viewer.closed:\n",
    "        qf = robot.compute_passive_force(gravity=True, coriolis_and_centrifugal=True)\n",
    "        \n",
    "        if use_external_pid: # Enable simple PID controller\n",
    "            pid_qf = pid_forward(pids, target_qpos, robot.get_qpos(), scene.get_timestep())\n",
    "            qf += pid_qf\n",
    "        \n",
    "        robot.set_qf(qf)\n",
    "\n",
    "        scene.step()\n",
    "\n",
    "        if steps % 8 == 0: # Render every 8 steps\n",
    "            scene.update_render()\n",
    "            viewer.render()\n",
    "\n",
    "        if steps < 2000 and steps % 200 == 0:\n",
    "            scene.update_render()\n",
    "            camera.take_picture()\n",
    "            rgba = camera.get_color_rgba()\n",
    "            plt.subplot(2, 5, steps//200+1)\n",
    "            plt.imshow(rgba[..., :3])\n",
    "        \n",
    "        if steps == 1999:\n",
    "            print(\"robot qpos at steps 1999: \", robot.get_qpos())\n",
    "\n",
    "        steps += 1"
   ]
  }
 ],
 "metadata": {
  "kernelspec": {
   "display_name": "sapien",
   "language": "python",
   "name": "python3"
  },
  "language_info": {
   "codemirror_mode": {
    "name": "ipython",
    "version": 3
   },
   "file_extension": ".py",
   "mimetype": "text/x-python",
   "name": "python",
   "nbconvert_exporter": "python",
   "pygments_lexer": "ipython3",
   "version": "3.9.13"
  },
  "orig_nbformat": 4,
  "vscode": {
   "interpreter": {
    "hash": "52cc33f0f2a37b136af3b056cd1b16fcde515625a8da3d7221199fda542f2c7a"
   }
  }
 },
 "nbformat": 4,
 "nbformat_minor": 2
}
