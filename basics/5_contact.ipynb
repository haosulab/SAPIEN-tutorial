{
 "cells": [
  {
   "attachments": {},
   "cell_type": "markdown",
   "metadata": {},
   "source": [
    "<a href=\"https://colab.research.google.com/github/haosulab/SAPIEN-tutorial/blob/master/basics/5_contact.ipynb\"><img src=\"https://colab.research.google.com/assets/colab-badge.svg\" alt=\"Open In Colab\"/></a>"
   ]
  },
  {
   "attachments": {},
   "cell_type": "markdown",
   "metadata": {
    "id": "TIve0W2GQ6GC"
   },
   "source": [
    "> Note: Some core features of SAPIEN are not available on Colab, including the interactive viewer and ray-tracing functionalities. You need to run SAPIEN locally for full features. A more comprehensive tutorial including features that are only available to local environment can be found at [SAPIEN's documentation](https://sapien.ucsd.edu/docs/latest/index.html)."
   ]
  },
  {
   "cell_type": "markdown",
   "metadata": {
    "id": "FUnaOg_zdbvm"
   },
   "source": [
    "# Tutorial 5: Contact"
   ]
  },
  {
   "cell_type": "markdown",
   "metadata": {
    "id": "fuXH6h21dgQk"
   },
   "source": [
    "Contact information is useful to check whether two rigid bodies collide or whether an object is grasped by a gripper. The example shows how to check the contact between two actors (one box supported by another box).\n",
    "\n",
    "In this tutorial, you will learn the following:\n",
    "\n",
    "- Get contact information from `Contact`"
   ]
  },
  {
   "cell_type": "markdown",
   "metadata": {
    "id": "DOzzW-X1djys"
   },
   "source": [
    "## Preparation"
   ]
  },
  {
   "cell_type": "code",
   "execution_count": null,
   "metadata": {
    "id": "lMWsZUg_dnqf"
   },
   "outputs": [],
   "source": [
    "%pip install sapien\n",
    "import sapien.core as sapien\n",
    "import numpy as np"
   ]
  },
  {
   "cell_type": "markdown",
   "metadata": {
    "id": "3h_HFbupdv_l"
   },
   "source": [
    "## Full Script"
   ]
  },
  {
   "cell_type": "markdown",
   "metadata": {
    "id": "3EMTbP3FdzCR"
   },
   "source": [
    "A full working script is provided as follows:"
   ]
  },
  {
   "cell_type": "code",
   "execution_count": null,
   "metadata": {
    "id": "wAd4B1P_d1rL"
   },
   "outputs": [],
   "source": [
    "engine = sapien.Engine()\n",
    "scene = engine.create_scene()\n",
    "dt = 1 / 100.0\n",
    "scene.set_timestep(dt)\n",
    "\n",
    "# ---------------------------------------------------------------------------- #\n",
    "# Add two boxes\n",
    "# ---------------------------------------------------------------------------- #\n",
    "actor_builder = scene.create_actor_builder()\n",
    "actor_builder.add_box_collision(half_size=[0.5, 0.5, 0.5])\n",
    "# actor_builder.add_box_visual(half_size=[0.5, 0.5, 0.5], color=[1, 0, 0])\n",
    "box1 = actor_builder.build_kinematic(name='box1')\n",
    "box1.set_pose(sapien.Pose(p=[0, 0, 1.0]))\n",
    "print('Mass of box1:', box1.mass)\n",
    "\n",
    "actor_builder = scene.create_actor_builder()\n",
    "actor_builder.add_box_collision(half_size=[0.25, 0.25, 0.25])\n",
    "# actor_builder.add_box_visual(half_size=[0.25, 0.25, 0.25], color=[0, 1, 0])\n",
    "box2 = actor_builder.build(name='box2')\n",
    "box2.set_pose(sapien.Pose(p=[0, 0, 1.75]))\n",
    "print('Mass of box2:', box2.mass)\n",
    "\n",
    "# ---------------------------------------------------------------------------- #\n",
    "# Check contacts\n",
    "# ---------------------------------------------------------------------------- #\n",
    "scene.step()\n",
    "contacts = scene.get_contacts()\n",
    "support_force = 0\n",
    "for contact in contacts:\n",
    "    print(contact)\n",
    "    for point in contact.points:\n",
    "        print('Impulse (F * dt) on the first actor:', point.impulse)\n",
    "        print('Normal (same direction as impulse):', point.normal)\n",
    "        print('Contact position (in the world frame):', point.position)\n",
    "        print('Minimum distance between two shapes:', point.separation)\n",
    "        if contact.actor0.name == 'box2':\n",
    "            support_force += point.impulse[2] / dt\n",
    "        elif contact.actor0.name == 'box1':\n",
    "            support_force -= point.impulse[2] / dt\n",
    "        else:\n",
    "            raise RuntimeError('Impossible case in this example.')\n",
    "# Sanity check: the support force should balance the gravity\n",
    "np.testing.assert_allclose(support_force, 9.81 * box2.mass, rtol=1e-3)"
   ]
  },
  {
   "cell_type": "markdown",
   "metadata": {
    "id": "JUQQOyApd9vt"
   },
   "source": [
    "You can call `get_contacts` to fetch all contacts after the current simulation step. It returns a list of `Contact`. `contact.actor0` and `contact.actor1` refer to two actors involved in the contact. `contact.points` contains a list of `ContactPoint`.\n",
    "\n",
    "For each contact point,\n",
    "\n",
    "- `impulse`: the impulse applied on the first actor.\n",
    "- `normal`: the direction of impulse.\n",
    "- `position`: the point of application in the world frame.\n",
    "- `seperation`: minimum distance between two shapes involved in the contact."
   ]
  },
  {
   "cell_type": "markdown",
   "metadata": {
    "id": "XaxhwDbfeNm2"
   },
   "source": [
    "> Note: `Contact` in SAPIEN does not mean that two actors are contacting each other. It will be generated when the contact is about to start or end, and, of course, when the contact is happening."
   ]
  }
 ],
 "metadata": {
  "colab": {
   "authorship_tag": "ABX9TyPK64VqjE0YKVgp7Mu0icZZ",
   "provenance": []
  },
  "kernelspec": {
   "display_name": "Python 3",
   "language": "python",
   "name": "python3"
  },
  "language_info": {
   "codemirror_mode": {
    "name": "ipython",
    "version": 3
   },
   "file_extension": ".py",
   "mimetype": "text/x-python",
   "name": "python",
   "nbconvert_exporter": "python",
   "pygments_lexer": "ipython3",
   "version": "3.8.10 (default, Nov 14 2022, 12:59:47) \n[GCC 9.4.0]"
  },
  "vscode": {
   "interpreter": {
    "hash": "916dbcbb3f70747c44a77c7bcd40155683ae19c65e1c03b4aa3499c5328201f1"
   }
  }
 },
 "nbformat": 4,
 "nbformat_minor": 1
}
