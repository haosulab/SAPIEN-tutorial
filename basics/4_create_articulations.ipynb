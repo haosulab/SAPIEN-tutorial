{
 "cells": [
  {
   "attachments": {},
   "cell_type": "markdown",
   "metadata": {},
   "source": [
    "<a href=\"https://colab.research.google.com/github/haosulab/SAPIEN-tutorial/blob/master/basics/4_create_articulations.ipynb\"><img src=\"https://colab.research.google.com/assets/colab-badge.svg\" alt=\"Open In Colab\"/></a>"
   ]
  },
  {
   "attachments": {},
   "cell_type": "markdown",
   "metadata": {
    "id": "TIve0W2GQ6GC"
   },
   "source": [
    "> Note: Some core features of SAPIEN are not available on Colab, including the interactive viewer and ray-tracing functionalities. You need to run SAPIEN locally for full features. A more comprehensive tutorial including features that are only available to local environment can be found at [SAPIEN's documentation](https://sapien.ucsd.edu/docs/latest/index.html)."
   ]
  },
  {
   "cell_type": "markdown",
   "metadata": {
    "id": "fEhR0DOtKz1J"
   },
   "source": [
    "# Tutorial 4: Create Articulations"
   ]
  },
  {
   "cell_type": "markdown",
   "metadata": {
    "id": "Umi7Iri_K242"
   },
   "source": [
    "The **articulation** is a set of **links** (each of which behaves like a rigid body) connected together with special **joints**. For instance, a drawer can be connected to a table by a **prismatic** joint (slider), and a door can be connected to a frame by a **revolute** joint (hinge). A robot is also an instance of an articulation. Articulations are usually loaded from [URDF](http://wiki.ros.org/urdf/XML) XML, which you can find example in the comprehensive tutorial linked at the top. This tutorial showcases how to create an articulation programmatically by SAPIEN.\n",
    "\n",
    "Articulations can be controlled by applying `torques` on their joints. To drive an articulation to a desired state, users can apply a [controller](https://en.wikipedia.org/wiki/Control_theory) to compute corrective torques according to the difference between the actual and the desired.\n",
    "\n",
    "In this tutorial, you will learn the following:\n",
    "- Create Articulation\n",
    "- Control the articulation with builtin controllers\n",
    "- Get kinematic quantities of the articulation\n",
    "\n",
    "The example illustrates how to build a controllable toy car from scratch."
   ]
  },
  {
   "cell_type": "markdown",
   "metadata": {
    "id": "DOzzW-X1djys"
   },
   "source": [
    "## Preparation"
   ]
  },
  {
   "cell_type": "markdown",
   "metadata": {
    "id": "ssNPcLKYDoDH"
   },
   "source": [
    "**Note: To run the visualization of this notebook, you need to run it locally on a machine with GPU.**"
   ]
  },
  {
   "cell_type": "code",
   "execution_count": null,
   "metadata": {
    "id": "qIDL-wHKzKQ5"
   },
   "outputs": [],
   "source": [
    "%pip install sapien\n",
    "import sapien.core as sapien\n",
    "from sapien.utils.viewer import Viewer\n",
    "import numpy as np\n",
    "from transforms3d.euler import euler2quat\n",
    "\n",
    "# Hyperparameters\n",
    "static_friction = 10.0 # Static friction\n",
    "dynamic_friction = 10.0 # Dynamic friction\n",
    "restitution = 0.1 # Restitution (elasticity of collision)\n",
    "joint_friction = 0.0 # Joint friction\n",
    "joint_damping = 0.0 # Joint damping (resistance proportional to joint velocity)\n",
    "\n",
    "# Set up simulation engine, renderer and scene\n",
    "engine = sapien.Engine()\n",
    "renderer = sapien.SapienRenderer()\n",
    "engine.set_renderer(renderer)\n",
    "scene_config = sapien.SceneConfig()\n",
    "scene_config.default_static_friction = static_friction\n",
    "scene_config.default_dynamic_friction = dynamic_friction\n",
    "scene_config.default_restitution = restitution\n",
    "scene = engine.create_scene(scene_config)\n",
    "scene.set_timestep(1 / 100.0)"
   ]
  },
  {
   "cell_type": "markdown",
   "metadata": {
    "id": "2S4lEckgSZoG"
   },
   "source": [
    "## Create a root link"
   ]
  },
  {
   "cell_type": "markdown",
   "metadata": {
    "id": "_m-eh6WASbZC"
   },
   "source": [
    "In SAPIEN, the articulation is represented as a tree. Each node is a link, and each edge indicates that the child link is connected to the parent link by a joint. To build a toy car, let’s start with the car body.\n",
    "\n",
    "    def create_car(\n",
    "            scene: sapien.Scene,\n",
    "            body_size=(1.0, 0.5, 0.25),\n",
    "            tire_radius=0.15,\n",
    "            joint_friction=0.0,\n",
    "            joint_damping=0.0,\n",
    "            density=1.0,\n",
    "    ) -> sapien.Articulation:\n",
    "        body_half_size = np.array(body_size) / 2\n",
    "        shaft_half_size = np.array([tire_radius * 0.1, tire_radius * 0.1, body_size[2] * 0.1])\n",
    "        rack_half_size = np.array([tire_radius * 0.1, body_half_size[1] * 2.0, tire_radius * 0.1])\n",
    "        builder: sapien.ArticulationBuilder = scene.create_articulation_builder()\n",
    "\n",
    "        # car body (root of the articulation)\n",
    "        body: sapien.LinkBuilder = builder.create_link_builder()  # LinkBuilder is similar to ActorBuilder\n",
    "        body.set_name('body')\n",
    "        body.add_box_collision(half_size=body_half_size, density=density)\n",
    "        body.add_box_visual(half_size=body_half_size, color=[0.8, 0.6, 0.4])\n",
    "\n",
    "`Articulation` is created by `ArticulationBuilder`. Each link is built by `LinkBuilder`, which can be created by an articulation builder. A link is just a rigid body, and thus collision and visual shapes can be added. A root link is created when `create_link_builder()` is called without specifying the parent link."
   ]
  },
  {
   "cell_type": "markdown",
   "metadata": {
    "id": "bEoqIMAATZP4"
   },
   "source": [
    "## Create a child link connected by a revolute joint"
   ]
  },
  {
   "cell_type": "markdown",
   "metadata": {
    "id": "QA5PS4dLTsMI"
   },
   "source": [
    "Next, we create a child link (front steering shaft) connected to the root link (car body) by a revolute joint.\n",
    "\n",
    "        # front steering shaft\n",
    "        front_shaft = builder.create_link_builder(body)\n",
    "        front_shaft.set_name('front_shaft')\n",
    "        front_shaft.set_joint_name('front_shaft_joint')\n",
    "        front_shaft.add_box_collision(half_size=shaft_half_size, density=density)\n",
    "        front_shaft.add_box_visual(half_size=shaft_half_size, color=[0.6, 0.4, 0.8])\n",
    "        # The x-axis of the joint frame is the rotation axis of a revolute joint.\n",
    "        front_shaft.set_joint_properties(\n",
    "            'revolute',\n",
    "            limits=[[-np.deg2rad(15), np.deg2rad(15)]],  # joint limits (for each DoF)\n",
    "            # pose_in_parent refers to the relative transformation from the parent frame to the joint frame\n",
    "            pose_in_parent=sapien.Pose(\n",
    "                p=[(body_half_size[0] - tire_radius), 0, -body_half_size[2]],\n",
    "                q=euler2quat(0, -np.deg2rad(90), 0)\n",
    "            ),\n",
    "            # pose_in_child refers to the relative transformation from the child frame to the joint frame\n",
    "            pose_in_child=sapien.Pose(\n",
    "                p=[0.0, 0.0, shaft_half_size[2]],\n",
    "                q=euler2quat(0, -np.deg2rad(90), 0)\n",
    "            ),\n",
    "            friction=joint_friction,\n",
    "            damping=joint_damping,\n",
    "        )\n",
    "\n",
    "A child link is created when `create_link_builder(parent_link)` is called with specifying the parent link. Besides, we need to configure the joint.\n",
    "\n",
    "There are multiple types of joints: prismatic, revolute, fixed. The definitions follow [PhysX](https://gameworksdocs.nvidia.com/PhysX/4.1/documentation/physxguide/Manual/Joints.html).\n",
    "\n",
    "- **revolute**: a revolute joint (also called a hinge) keeps the origins and x-axes of the frames together, and allows free rotation around this common axis.\n",
    "- **prismatic**: a prismatic joint (also called a slider) keeps the orientations identical, but allows the origin of each frame to slide freely along the common x-axis.\n",
    "- **fixed**: a fixed joint locks the orientations and origins rigidly together\n",
    "\n",
    "The location of the joint is defined by the joint pose in the parent frame `pose_in_parent`, and the joint pose in the child frame `pose_in_child`.\n",
    "\n",
    "Other properties of a joint, like joint friction and joint damping, can also be set through `set_joint_properties(...)`."
   ]
  },
  {
   "cell_type": "markdown",
   "metadata": {
    "id": "DHaTEbrXWr13"
   },
   "source": [
    "Similarly we can create other necessary articulations of a toy car. The full code for building the car is provided as follow."
   ]
  },
  {
   "cell_type": "code",
   "execution_count": null,
   "metadata": {
    "id": "ZMG3FgxtW5w_"
   },
   "outputs": [],
   "source": [
    "def create_car(\n",
    "        scene: sapien.Scene,\n",
    "        body_size=(1.0, 0.5, 0.25),\n",
    "        tire_radius=0.15,\n",
    "        joint_friction=0.0,\n",
    "        joint_damping=0.0,\n",
    "        density=1.0,\n",
    ") -> sapien.Articulation:\n",
    "    body_half_size = np.array(body_size) / 2\n",
    "    shaft_half_size = np.array([tire_radius * 0.1, tire_radius * 0.1, body_size[2] * 0.1])\n",
    "    rack_half_size = np.array([tire_radius * 0.1, body_half_size[1] * 2.0, tire_radius * 0.1])\n",
    "    builder: sapien.ArticulationBuilder = scene.create_articulation_builder()\n",
    "\n",
    "    # car body (root of the articulation)\n",
    "    body: sapien.LinkBuilder = builder.create_link_builder()  # LinkBuilder is similar to ActorBuilder\n",
    "    body.set_name('body')\n",
    "    body.add_box_collision(half_size=body_half_size, density=density)\n",
    "    body.add_box_visual(half_size=body_half_size, color=[0.8, 0.6, 0.4])\n",
    "\n",
    "    # front steering shaft\n",
    "    front_shaft = builder.create_link_builder(body)\n",
    "    front_shaft.set_name('front_shaft')\n",
    "    front_shaft.set_joint_name('front_shaft_joint')\n",
    "    front_shaft.add_box_collision(half_size=shaft_half_size, density=density)\n",
    "    front_shaft.add_box_visual(half_size=shaft_half_size, color=[0.6, 0.4, 0.8])\n",
    "    # The x-axis of the joint frame is the rotation axis of a revolute joint.\n",
    "    front_shaft.set_joint_properties(\n",
    "        'revolute',\n",
    "        limits=[[-np.deg2rad(15), np.deg2rad(15)]],  # joint limits (for each DoF)\n",
    "        # pose_in_parent refers to the relative transformation from the parent frame to the joint frame\n",
    "        pose_in_parent=sapien.Pose(\n",
    "            p=[(body_half_size[0] - tire_radius), 0, -body_half_size[2]],\n",
    "            q=euler2quat(0, -np.deg2rad(90), 0)\n",
    "        ),\n",
    "        # pose_in_child refers to the relative transformation from the child frame to the joint frame\n",
    "        pose_in_child=sapien.Pose(\n",
    "            p=[0.0, 0.0, shaft_half_size[2]],\n",
    "            q=euler2quat(0, -np.deg2rad(90), 0)\n",
    "        ),\n",
    "        friction=joint_friction,\n",
    "        damping=joint_damping,\n",
    "    )\n",
    "\n",
    "    # back steering shaft (not drivable)\n",
    "    back_shaft = builder.create_link_builder(body)\n",
    "    back_shaft.set_name('back_shaft')\n",
    "    back_shaft.set_joint_name('back_shaft_joint')\n",
    "    back_shaft.add_box_collision(half_size=shaft_half_size, density=density)\n",
    "    back_shaft.add_box_visual(half_size=shaft_half_size, color=[0.6, 0.4, 0.8])\n",
    "    back_shaft.set_joint_properties(\n",
    "        'fixed',\n",
    "        limits=[],\n",
    "        pose_in_parent=sapien.Pose(\n",
    "            p=[-(body_half_size[0] - tire_radius), 0, -body_half_size[2]],\n",
    "            q=euler2quat(0, -np.deg2rad(90), 0)\n",
    "        ),\n",
    "        pose_in_child=sapien.Pose(\n",
    "            p=[0.0, 0.0, shaft_half_size[2]],\n",
    "            q=euler2quat(0, -np.deg2rad(90), 0)\n",
    "        ),\n",
    "        friction=joint_friction,\n",
    "        damping=joint_damping,\n",
    "    )\n",
    "\n",
    "    # front wheels\n",
    "    front_wheels = builder.create_link_builder(front_shaft)\n",
    "    front_wheels.set_name('front_wheels')\n",
    "    front_wheels.set_joint_name('front_gear')\n",
    "    # rack\n",
    "    front_wheels.add_box_collision(half_size=rack_half_size, density=density)\n",
    "    front_wheels.add_box_visual(half_size=rack_half_size, color=[0.8, 0.4, 0.6])\n",
    "    # left wheel\n",
    "    front_wheels.add_sphere_collision(pose=sapien.Pose(p=[0.0, rack_half_size[1] + tire_radius, 0.0]),\n",
    "                                      radius=tire_radius, density=density)\n",
    "    front_wheels.add_sphere_visual(pose=sapien.Pose(p=[0.0, rack_half_size[1] + tire_radius, 0.0]),\n",
    "                                   radius=tire_radius,\n",
    "                                   color=[0.4, 0.6, 0.8])\n",
    "    # right wheel\n",
    "    front_wheels.add_sphere_collision(pose=sapien.Pose(p=[0.0, -(rack_half_size[1] + tire_radius), 0.0]),\n",
    "                                      radius=tire_radius, density=density)\n",
    "    front_wheels.add_sphere_visual(pose=sapien.Pose(p=[0.0, -(rack_half_size[1] + tire_radius), 0.0]),\n",
    "                                   radius=tire_radius,\n",
    "                                   color=[0.4, 0.6, 0.8])\n",
    "    # gear\n",
    "    front_wheels.set_joint_properties(\n",
    "        'revolute',\n",
    "        limits=[[-np.inf, np.inf]],\n",
    "        pose_in_parent=sapien.Pose(\n",
    "            p=[0.0, 0, -(shaft_half_size[2] + rack_half_size[2])],\n",
    "            q=euler2quat(0, 0, np.deg2rad(90))\n",
    "        ),\n",
    "        pose_in_child=sapien.Pose(\n",
    "            p=[0.0, 0.0, 0.0],\n",
    "            q=euler2quat(0, 0, np.deg2rad(90))\n",
    "        ),\n",
    "        friction=joint_friction,\n",
    "        damping=joint_damping,\n",
    "    )\n",
    "\n",
    "    # back wheels\n",
    "    back_wheels = builder.create_link_builder(back_shaft)\n",
    "    back_wheels.set_name('back_wheels')\n",
    "    back_wheels.set_joint_name('back_gear')\n",
    "    # rack\n",
    "    back_wheels.add_box_collision(half_size=rack_half_size, density=density)\n",
    "    back_wheels.add_box_visual(half_size=rack_half_size, color=[0.8, 0.4, 0.6])\n",
    "    # left wheel\n",
    "    back_wheels.add_sphere_collision(pose=sapien.Pose(p=[0.0, rack_half_size[1] + tire_radius, 0.0]),\n",
    "                                     radius=tire_radius, density=density)\n",
    "    back_wheels.add_sphere_visual(pose=sapien.Pose(p=[0.0, rack_half_size[1] + tire_radius, 0.0]),\n",
    "                                  radius=tire_radius,\n",
    "                                  color=[0.4, 0.6, 0.8])\n",
    "    # right wheel\n",
    "    back_wheels.add_sphere_collision(pose=sapien.Pose(p=[0.0, -(rack_half_size[1] + tire_radius), 0.0]),\n",
    "                                 radius=tire_radius, density=density)\n",
    "    back_wheels.add_sphere_visual(pose=sapien.Pose(p=[0.0, -(rack_half_size[1] + tire_radius), 0.0]),\n",
    "                                  radius=tire_radius,\n",
    "                                  color=[0.4, 0.6, 0.8])\n",
    "    # gear\n",
    "    back_wheels.set_joint_properties(\n",
    "        'revolute',\n",
    "        limits=[[-np.inf, np.inf]],\n",
    "        pose_in_parent=sapien.Pose(\n",
    "            p=[0.0, 0, -(shaft_half_size[2] + rack_half_size[2])],\n",
    "            q=euler2quat(0, 0, np.deg2rad(90))\n",
    "        ),\n",
    "        pose_in_child=sapien.Pose(\n",
    "            p=[0.0, 0.0, 0.0],\n",
    "            q=euler2quat(0, 0, np.deg2rad(90))\n",
    "        ),\n",
    "        friction=joint_friction,\n",
    "        damping=joint_damping,\n",
    "    )\n",
    "\n",
    "    car = builder.build()\n",
    "    car.set_name('car')\n",
    "    return car"
   ]
  },
  {
   "cell_type": "code",
   "execution_count": null,
   "metadata": {
    "id": "eXZkD9UfZXbB"
   },
   "outputs": [],
   "source": [
    "scene.add_ground(altitude=0)\n",
    "car = create_car(scene, joint_friction=joint_friction, joint_damping=joint_damping)\n",
    "car.set_pose(sapien.Pose(p=[0., 0., 0.34]))\n",
    "print('The dof of the articulation is', car.dof)"
   ]
  },
  {
   "cell_type": "markdown",
   "metadata": {
    "id": "ybOpEKNvX80U"
   },
   "source": [
    "## Control an articulation with builtin drives"
   ]
  },
  {
   "cell_type": "markdown",
   "metadata": {
    "id": "dJqtQ2HMYEfn"
   },
   "source": [
    "After building the articulation, we want to control it by actuating its joints. SAPIEN provides builtin **drives** (controllers) to control either the position or the speed of a joint."
   ]
  },
  {
   "cell_type": "code",
   "execution_count": null,
   "metadata": {
    "id": "uF3pgYhaYFxK"
   },
   "outputs": [],
   "source": [
    "def get_joints_dict(articulation: sapien.Articulation):\n",
    "    joints = articulation.get_joints()\n",
    "    joint_names =  [joint.name for joint in joints]\n",
    "    assert len(joint_names) == len(set(joint_names)), 'Joint names are assumed to be unique.'\n",
    "    return {joint.name: joint for joint in joints}"
   ]
  },
  {
   "cell_type": "markdown",
   "metadata": {
    "id": "NWnJn8zDYH-7"
   },
   "source": [
    "All the joints of an articulation can be acquired by `get_joints()`."
   ]
  },
  {
   "cell_type": "markdown",
   "metadata": {
    "id": "t5jDE2uYYNJ9"
   },
   "source": [
    "> Note: Although the order of joints returned by `get_joints()` is fixed, it is recommended to index a joint by its name. Joint names should be unique, which is not forced in SAPIEN though."
   ]
  },
  {
   "cell_type": "code",
   "execution_count": null,
   "metadata": {
    "id": "gLFf6PbWYPm5"
   },
   "outputs": [],
   "source": [
    "joints = get_joints_dict(car)\n",
    "print(joints.keys())\n",
    "joints['front_shaft_joint'].set_drive_property(stiffness=1000.0, damping=0.0)  # front shaft\n",
    "joints['front_gear'].set_drive_property(0.0, 1000.0)  # front gear\n",
    "joints['back_gear'].set_drive_property(0.0, 0.0)  # back gear\n",
    "limits = np.rad2deg(joints['front_shaft_joint'].get_limits()[0])"
   ]
  },
  {
   "cell_type": "markdown",
   "metadata": {
    "id": "tOojHxCMZiZ5"
   },
   "source": [
    "For each active joint (with non-zero degree of freedom), we can set its drive properties: `stiffness` and `damping`. They implies the extent to which the drive attempts to achieve the target position and velocity respectively. There do not exist a general rule to set those values and you usually should tune them case by case. If you are familiar with control theory, they correspond to P and D terms in [PID controller](https://en.wikipedia.org/wiki/PID_controller). The initial target position and velocity of a joint are zero by default. Since our toy car is designed to be a front-wheel drive car, we set both the stiffness and damping as zero for the back gear."
   ]
  },
  {
   "cell_type": "markdown",
   "metadata": {
    "id": "yBt4V60BZrBZ"
   },
   "source": [
    "> When a non-zero target is set and stiffness/damping is also non-zero, the drive takes effect internally at each simulation step."
   ]
  },
  {
   "cell_type": "markdown",
   "metadata": {
    "id": "mc1Je5dCbROb"
   },
   "source": [
    "## Remove an articulation"
   ]
  },
  {
   "cell_type": "markdown",
   "metadata": {
    "id": "NLJ1vKb3bTTb"
   },
   "source": [
    "Similar to removing an actor, `scene.remove_articulation(articulation)` will remove it from the scene. Using the articulation or any of its links or joints after removal will result in undefined behavior (usually a crash).\n"
   ]
  },
  {
   "cell_type": "markdown",
   "metadata": {
    "id": "sL3lLOdpbXGF"
   },
   "source": [
    "## Get kinematic quantities of the articulation"
   ]
  },
  {
   "cell_type": "markdown",
   "metadata": {
    "id": "mQE_rtUIbZPf"
   },
   "source": [
    "The pose of the articulation (frame) in the world frame can be acquired by `get_pose()`. It is the same as the pose of the root link. Besides, joint positions and velocities can be acquired by `get_qpos()` and `get_qvel()`. They both return a list of scalars, the length of which is the total degree of freedom. The order is the same as `get_joints()`."
   ]
  },
  {
   "cell_type": "markdown",
   "metadata": {
    "id": "n9Pe6iBNbg9b"
   },
   "source": [
    "If running locally, we can use `Viewer` to visualize the toy car. We can implement different behaviors when different keys are pressed. `set_drive_target(...)` and `set_drive_velocity_target(...)` are called to set the target position and velocity of a joint drive."
   ]
  },
  {
   "cell_type": "code",
   "execution_count": null,
   "metadata": {
    "id": "21TTIbm8bqkY"
   },
   "outputs": [],
   "source": [
    "# Set up viewer\n",
    "viewer = Viewer(renderer)\n",
    "viewer.set_scene(scene)\n",
    "viewer.set_camera_xyz(x=-12, y=0, z=15)\n",
    "viewer.set_camera_rpy(r=0, p=-np.arctan2(2, 2), y=0)\n",
    "viewer.window.set_camera_parameters(near=0.05, far=100, fovy=1)\n",
    "viewer.focus_entity(car)\n",
    "\n",
    "# Set up light\n",
    "scene.set_ambient_light([0.5, 0.5, 0.5])\n",
    "scene.add_directional_light([0, 1, -1], [0.5, 0.5, 0.5], shadow=True)\n",
    "\n",
    "position = 0.0  # position target of joints\n",
    "velocity = 0.0  # velocity target of joints\n",
    "steps = 0\n",
    "last_step = -4\n",
    "while not viewer.closed:\n",
    "    if steps - last_step < 4:\n",
    "        pass  # prevent multiple changes for one key press\n",
    "    else:\n",
    "        last_step = steps\n",
    "        if viewer.window.key_down('i'):  # accelerate\n",
    "            velocity += 5.0\n",
    "            print('velocity increases:', velocity)\n",
    "            joints['front_gear'].set_drive_velocity_target(velocity)\n",
    "        elif viewer.window.key_down('k'):  # brake\n",
    "            velocity -= 5.0\n",
    "            print('velocity decreases:', velocity)\n",
    "            joints['front_gear'].set_drive_velocity_target(velocity)\n",
    "        elif viewer.window.key_down('j'):  # left turn\n",
    "            position += 2\n",
    "            position = np.clip(position, *limits)\n",
    "            joints['front_shaft_joint'].set_drive_target(np.deg2rad(position))\n",
    "            print('position increases:', position)\n",
    "        elif viewer.window.key_down('l'):  # right turn\n",
    "            position -= 2\n",
    "            position = np.clip(position, *limits)\n",
    "            print('position decreases:', position)\n",
    "            joints['front_shaft_joint'].set_drive_target(np.deg2rad(position))\n",
    "        elif viewer.window.key_down('r'):  # reset\n",
    "            position = 0\n",
    "            velocity = 0.0\n",
    "            print('reset')\n",
    "            joints['front_shaft_joint'].set_drive_target(position)\n",
    "            joints['front_gear'].set_drive_velocity_target(velocity)\n",
    "\n",
    "    car.set_qf(car.compute_passive_force(True, True, False))\n",
    "    scene.step()\n",
    "    scene.update_render()\n",
    "    viewer.render()\n",
    "\n",
    "    if steps % 500 == 0:\n",
    "        print('step:', steps)\n",
    "        print('Pose', car.get_pose())\n",
    "        print('Joint positions', car.get_qpos())\n",
    "        print('Joint velocities', car.get_qvel())\n",
    "    steps += 1"
   ]
  }
 ],
 "metadata": {
  "colab": {
   "authorship_tag": "ABX9TyPT7/Ps1rEjG+lAtiysE6Y+",
   "provenance": []
  },
  "kernelspec": {
   "display_name": "Python 3",
   "language": "python",
   "name": "python3"
  },
  "language_info": {
   "codemirror_mode": {
    "name": "ipython",
    "version": 3
   },
   "file_extension": ".py",
   "mimetype": "text/x-python",
   "name": "python",
   "nbconvert_exporter": "python",
   "pygments_lexer": "ipython3",
   "version": "3.8.10 (default, Nov 14 2022, 12:59:47) \n[GCC 9.4.0]"
  },
  "vscode": {
   "interpreter": {
    "hash": "916dbcbb3f70747c44a77c7bcd40155683ae19c65e1c03b4aa3499c5328201f1"
   }
  }
 },
 "nbformat": 4,
 "nbformat_minor": 1
}
