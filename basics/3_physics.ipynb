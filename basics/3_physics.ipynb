{
 "cells": [
  {
   "attachments": {},
   "cell_type": "markdown",
   "metadata": {},
   "source": [
    "<a href=\"https://colab.research.google.com/github/haosulab/SAPIEN-tutorial/blob/master/basics/3_physics.ipynb\"><img src=\"https://colab.research.google.com/assets/colab-badge.svg\" alt=\"Open In Colab\"/></a>"
   ]
  },
  {
   "attachments": {},
   "cell_type": "markdown",
   "metadata": {
    "id": "TIve0W2GQ6GC"
   },
   "source": [
    "> Note: Some core features of SAPIEN are not available on Colab, including the interactive viewer and ray-tracing functionalities. You need to run SAPIEN locally for full features. A more comprehensive tutorial including features that are only available to local environment can be found at [SAPIEN's documentation](https://sapien.ucsd.edu/docs/latest/index.html)."
   ]
  },
  {
   "attachments": {},
   "cell_type": "markdown",
   "metadata": {
    "id": "D2Ef4wksb0G_"
   },
   "source": [
    "# Basics Tutorial 3: Physics"
   ]
  },
  {
   "attachments": {},
   "cell_type": "markdown",
   "metadata": {
    "id": "x3iWjvrUcQpc"
   },
   "source": [
    "Since SAPIEN is a physical simulation framework, we would like to showcase how to change physical properties which lead to different behaviors.\n",
    "\n",
    "In this tutorial, you will learn the following:\n",
    "\n",
    "- Use `SceneConfig` to initialize default physical properties\n",
    "- Use `PhysicalMaterial` to set different physical materials\n",
    "- Create kinematic actors\n",
    "- Enable damping for actors\n",
    "- Get kinematic quantities (pose, velocity, angular velocity) of an actor"
   ]
  },
  {
   "cell_type": "markdown",
   "metadata": {
    "id": "DOzzW-X1djys"
   },
   "source": [
    "## Preparation"
   ]
  },
  {
   "cell_type": "markdown",
   "metadata": {
    "id": "ssNPcLKYDoDH"
   },
   "source": [
    "**Note: you need GPU runtime to run the notebook.**"
   ]
  },
  {
   "cell_type": "code",
   "execution_count": null,
   "metadata": {
    "id": "qIDL-wHKzKQ5"
   },
   "outputs": [],
   "source": [
    "%pip install sapien matplotlib\n",
    "\n",
    "import sapien.core as sapien\n",
    "import numpy as np\n",
    "import matplotlib.pyplot as plt\n",
    "from PIL import Image\n",
    "from  transforms3d.quaternions import axangle2quat\n",
    "\n",
    "%matplotlib inline"
   ]
  },
  {
   "attachments": {},
   "cell_type": "markdown",
   "metadata": {},
   "source": [
    "The example illustrates an object sliding down the slope. You can run the script with different arguments."
   ]
  },
  {
   "cell_type": "code",
   "execution_count": null,
   "metadata": {
    "id": "Wi3mBgMdexQo"
   },
   "outputs": [],
   "source": [
    "# Hyperparameters\n",
    "obj = 'box' # The type of object. Choices are 'box' and 'sphere'\n",
    "gravity = -9.8 # Z-axis gravity\n",
    "angle = 30.0 # The angle of the slope\n",
    "offset = 0.1 # Z-offset of the slope above the ground\n",
    "static_friction = 0.3 # Static friction\n",
    "dynamic_friction = 0.3 # Dynamic Friction\n",
    "restitution = 0.1 # Restitution (elasticity of collision)\n",
    "linear_damping = 0.0 # Linear damping (resistance proportional to linear velocity)\n",
    "angular_damping = 0.0 # Angular damping (resistance proportional to angular velocity)\n"
   ]
  },
  {
   "cell_type": "markdown",
   "metadata": {
    "id": "tErzpzlbeJcA"
   },
   "source": [
    "## Set default physical properties"
   ]
  },
  {
   "cell_type": "markdown",
   "metadata": {
    "id": "kZ6pmjH6eMw3"
   },
   "source": [
    "Default physical properties can be specified when a scene is created. Those properties include gravity, static and dynamic friction, as well as [restitution](https://en.wikipedia.org/wiki/Coefficient_of_restitution) (elasticity of collision)."
   ]
  },
  {
   "cell_type": "code",
   "execution_count": null,
   "metadata": {
    "id": "a4bp1ZYzcaHE"
   },
   "outputs": [],
   "source": [
    "engine = sapien.Engine()\n",
    "renderer = sapien.SapienRenderer()\n",
    "engine.set_renderer(renderer)\n",
    "\n",
    "scene_config = sapien.SceneConfig() # The default physical properties can be modified through sapien.SceneConfig\n",
    "print(scene_config.gravity)\n",
    "print(scene_config.default_static_friction)\n",
    "print(scene_config.default_dynamic_friction)\n",
    "print(scene_config.default_restitution)\n",
    "scene_config.gravity = np.array([0.0, 0.0, gravity])\n",
    "scene = engine.create_scene(scene_config)\n",
    "scene.set_timestep(1 / 100.0)"
   ]
  },
  {
   "cell_type": "markdown",
   "metadata": {
    "id": "bww_HkIWg0jZ"
   },
   "source": [
    "`SceneConfig` describes default physical properties, and can be passed to `Scene`."
   ]
  },
  {
   "cell_type": "markdown",
   "metadata": {
    "id": "-NC5tjm-g6yZ"
   },
   "source": [
    "## Set physical materials"
   ]
  },
  {
   "cell_type": "markdown",
   "metadata": {
    "id": "KQgco4BDg9hx"
   },
   "source": [
    "`PhysicalMaterial` describes physical (contact) properties (friction and restitution) of the material of an actor. It can be specified when an actor is created. If not provided, the default physical material, induced by the scene’s default physical properties, will be used. Note that `PhysicalMaterial` can only be created by `create_physical_material(...)`."
   ]
  },
  {
   "cell_type": "code",
   "execution_count": null,
   "metadata": {
    "id": "jgKZ93NQhE2M"
   },
   "outputs": [],
   "source": [
    "physical_material: sapien.PhysicalMaterial = scene.create_physical_material(\n",
    "    static_friction=static_friction,\n",
    "    dynamic_friction=dynamic_friction,\n",
    "    restitution=restitution,\n",
    ")"
   ]
  },
  {
   "cell_type": "markdown",
   "metadata": {
    "id": "AXpl9e2ahRSl"
   },
   "source": [
    "Some other physical properties, like density, are directly provided to collision shapes. "
   ]
  },
  {
   "cell_type": "code",
   "execution_count": null,
   "metadata": {
    "id": "XTaWwPf8CHXx"
   },
   "outputs": [],
   "source": [
    "def create_sphere(\n",
    "        scene: sapien.Scene,\n",
    "        pose: sapien.Pose,\n",
    "        radius,\n",
    "        color=None,\n",
    "        density=1000.0,\n",
    "        physical_material: sapien.PhysicalMaterial = None,\n",
    "        name='',\n",
    ") -> sapien.Actor:\n",
    "    \"\"\"Create a sphere.\"\"\"\n",
    "    builder = scene.create_actor_builder()\n",
    "    builder.add_sphere_collision(radius=radius, material=physical_material, density=density)\n",
    "    builder.add_sphere_visual(radius=radius, color=color)\n",
    "    sphere = builder.build(name=name)\n",
    "    sphere.set_pose(pose)\n",
    "    return sphere"
   ]
  },
  {
   "cell_type": "markdown",
   "metadata": {
    "id": "1YwYgcisBkuO"
   },
   "source": [
    "> Note: The rolling resistance (friction) is not modeled in SAPIEN currently."
   ]
  },
  {
   "cell_type": "markdown",
   "metadata": {
    "id": "t_jFS6_RBpfv"
   },
   "source": [
    "## Create a kinematic actor"
   ]
  },
  {
   "cell_type": "markdown",
   "metadata": {
    "id": "qBqXDyf3BrtD"
   },
   "source": [
    "Now, let’s create a slope. The slope should be a **kinematic** object, rather than a **dynamic** object. In other words, it can not be affected by external forces. We can set `is_kinematic=True` when building the actor."
   ]
  },
  {
   "cell_type": "code",
   "execution_count": null,
   "metadata": {
    "id": "arJzyoO5CBN2"
   },
   "outputs": [],
   "source": [
    "def create_box(\n",
    "        scene: sapien.Scene,\n",
    "        pose: sapien.Pose,\n",
    "        half_size,\n",
    "        color=None,\n",
    "        is_kinematic=False,\n",
    "        density=1000.0,\n",
    "        physical_material: sapien.PhysicalMaterial = None,\n",
    "        name='',\n",
    ") -> sapien.Actor:\n",
    "    \"\"\"Create a box.\n",
    "\n",
    "    Args:\n",
    "        scene: sapien.Scene to create a box.\n",
    "        pose: 6D pose of the box.\n",
    "        half_size: [3], half size along x, y, z axes.\n",
    "        color: [3] or [4], rgb or rgba.\n",
    "        is_kinematic: whether an object is kinematic (can not be affected by forces).\n",
    "        density: float, the density of the box.\n",
    "        physical_material: physical material of the actor.\n",
    "        name: name of the actor.\n",
    "\n",
    "    Returns:\n",
    "        sapien.Actor\n",
    "    \"\"\"\n",
    "    half_size = np.array(half_size)\n",
    "    builder = scene.create_actor_builder()\n",
    "    builder.add_box_collision(half_size=half_size, material=physical_material, density=density)  # Add collision shape\n",
    "    builder.add_box_visual(half_size=half_size, color=color)  # Add visual shape\n",
    "    if is_kinematic:\n",
    "        box = builder.build_kinematic(name=name)\n",
    "    else:\n",
    "        box = builder.build(name=name)\n",
    "    box.set_pose(pose)\n",
    "    return box"
   ]
  },
  {
   "cell_type": "markdown",
   "metadata": {
    "id": "pliER5_dD7nS"
   },
   "source": [
    "The following provided code will build the rest of the scene."
   ]
  },
  {
   "cell_type": "code",
   "execution_count": null,
   "metadata": {
    "id": "jMKGPINeD_a1"
   },
   "outputs": [],
   "source": [
    "scene.add_ground(altitude=0, material=physical_material)\n",
    "\n",
    "# Slope\n",
    "half_size = [0.25, 0.5, 0.05]\n",
    "z_offset = offset\n",
    "angle = np.deg2rad(angle)\n",
    "slope_pose = sapien.Pose(\n",
    "    p=[0, 0, half_size[1] * np.sin(angle) + half_size[2] * np.cos(angle) + z_offset],\n",
    "    q=axangle2quat([1.0, 0.0, 0.0], angle),\n",
    ")\n",
    "slope = create_box(\n",
    "    scene,\n",
    "    slope_pose,\n",
    "    half_size=half_size,\n",
    "    color=[0.5, 0.5, 0.5],\n",
    "    name='slope',\n",
    "    is_kinematic=True,\n",
    "    physical_material=physical_material\n",
    ")\n",
    "\n",
    "if obj == 'box':\n",
    "    box_half_size = 0.05\n",
    "    box_pose = sapien.Pose(\n",
    "        p=[0,\n",
    "            (half_size[1] - box_half_size) * np.cos(angle) -\n",
    "            (half_size[2] + box_half_size) * np.sin(angle),\n",
    "            (half_size[1] - box_half_size) * np.sin(angle) +\n",
    "            (half_size[2] + box_half_size) * np.cos(angle) + slope_pose.p[2]],\n",
    "        q=axangle2quat([1.0, 0.0, 0.0], angle),\n",
    "    )\n",
    "    actor = create_box(\n",
    "        scene,\n",
    "        box_pose,\n",
    "        half_size=[box_half_size] * 3,\n",
    "        color=[0., 0., 1.],\n",
    "        physical_material=physical_material,\n",
    "        name='box',\n",
    "    )\n",
    "elif obj == 'sphere':\n",
    "    # NOTE: Since Sapien does not model rolling resistance (friction), the sphere will roll forever.\n",
    "    # However, you can set actor's damping, like air resistance.\n",
    "    radius = 0.05\n",
    "    sphere_pose = sapien.Pose(\n",
    "        p=[0,\n",
    "            (half_size[1] - radius) * np.cos(angle) -\n",
    "            (half_size[2] + radius) * np.sin(angle),\n",
    "            (half_size[1] - radius) * np.sin(angle) +\n",
    "            (half_size[2] + radius) * np.cos(angle) + slope_pose.p[2]],\n",
    "    )\n",
    "    actor = create_sphere(\n",
    "        scene,\n",
    "        sphere_pose,\n",
    "        radius=0.05,\n",
    "        color=[0., 1., 0.],\n",
    "        physical_material=physical_material,\n",
    "        name='sphere',\n",
    "    )\n",
    "else:\n",
    "    raise NotImplementedError()"
   ]
  },
  {
   "cell_type": "markdown",
   "metadata": {
    "id": "sU5WS2grC9xB"
   },
   "source": [
    "## Set damping for the actor"
   ]
  },
  {
   "cell_type": "markdown",
   "metadata": {
    "id": "HFBy7lyjDAVK"
   },
   "source": [
    "Sometimes, you might model some resistance proportional to (linear or angular) velocity, like air resistance. It can be achieved by setting the **damping** of an actor."
   ]
  },
  {
   "cell_type": "code",
   "execution_count": null,
   "metadata": {
    "id": "X2so3J5XDEbb"
   },
   "outputs": [],
   "source": [
    "actor.set_damping(linear=linear_damping, angular=angular_damping)"
   ]
  },
  {
   "cell_type": "markdown",
   "metadata": {
    "id": "rq53BZ8BGG9F"
   },
   "source": [
    "## Get kinematic quantities (pose, velocity) of an actor"
   ]
  },
  {
   "cell_type": "markdown",
   "metadata": {
    "id": "3UVYqHqWGMmD"
   },
   "source": [
    "We can acquire kinematic quantities (pose, linear velocity, angular velocity) of an actor through `get_pose()`, `get_velocity()`, `get_angular_velocity()`. Let's see the kinematic properties together with visualizations during the object sliding down the slope."
   ]
  },
  {
   "cell_type": "code",
   "execution_count": null,
   "metadata": {
    "id": "rRXRslh4GQ8A"
   },
   "outputs": [],
   "source": [
    "scene.set_ambient_light([0.5, 0.5, 0.5])\n",
    "scene.add_directional_light([0, 1, -1], [0.5, 0.5, 0.5])\n",
    "\n",
    "camera = scene.add_camera(name='camera', width=1024, height=768, fovy=1.57, near=0.1, far=100)\n",
    "camera.set_pose(sapien.Pose([-1.04541, 0, 1.54541], [0.92388, 0, 0.382683, 0]))\n",
    "\n",
    "plt.figure(figsize=(15, 6))\n",
    "\n",
    "for steps in range(100):\n",
    "    scene.step()\n",
    "\n",
    "    if steps % 10 == 0:\n",
    "        # Visualization\n",
    "        scene.update_render()\n",
    "        camera.take_picture()\n",
    "        rgba = camera.get_color_rgba()\n",
    "        plt.subplot(2, 5, steps//10+1)\n",
    "        plt.imshow(rgba[..., :3])\n",
    "\n",
    "        # Get kinematic quantities\n",
    "        print('step:', steps)\n",
    "        print('Pose', actor.get_pose())\n",
    "        print('Velocity', actor.get_velocity())\n",
    "        print('Angular velocity', actor.get_angular_velocity())\n",
    "\n",
    "plt.show()"
   ]
  },
  {
   "attachments": {},
   "cell_type": "markdown",
   "metadata": {
    "id": "RXNGCvUyJDtv"
   },
   "source": [
    "You can restart the runtime, adjust the hyperparameters (at the beginning of the notebook) and rerun the above cells to see how changing physical properties will affect the motion of the object.\n",
    "\n",
    "> Note: If you are working locally, you can use `Viewer` to see the complete animation of the motion. For more information please refer to the comprehensive tutorial linked at the top."
   ]
  }
 ],
 "metadata": {
  "accelerator": "GPU",
  "colab": {
   "authorship_tag": "ABX9TyNKjfOzFCx3Hn41ZPbgL9XD",
   "provenance": []
  },
  "gpuClass": "standard",
  "kernelspec": {
   "display_name": "sapien",
   "language": "python",
   "name": "python3"
  },
  "language_info": {
   "codemirror_mode": {
    "name": "ipython",
    "version": 3
   },
   "file_extension": ".py",
   "mimetype": "text/x-python",
   "name": "python",
   "nbconvert_exporter": "python",
   "pygments_lexer": "ipython3",
   "version": "3.9.13 (main, Oct 13 2022, 21:15:33) \n[GCC 11.2.0]"
  },
  "vscode": {
   "interpreter": {
    "hash": "52cc33f0f2a37b136af3b056cd1b16fcde515625a8da3d7221199fda542f2c7a"
   }
  }
 },
 "nbformat": 4,
 "nbformat_minor": 1
}
