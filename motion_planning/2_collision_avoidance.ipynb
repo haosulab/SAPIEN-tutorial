{
 "cells": [
  {
   "attachments": {},
   "cell_type": "markdown",
   "metadata": {},
   "source": [
    "> Note: The visualization of this notebook depends on usage of SAPIEN's `Viewer`, which is not available on Colab. **You need to run this notebook locally**. Besides this notebook, you can also find the latest SAPIEN tutorial at [SAPIEN's documentation](https://sapien.ucsd.edu/docs/latest/index.html)."
   ]
  },
  {
   "attachments": {},
   "cell_type": "markdown",
   "metadata": {},
   "source": [
    "# Motion Planning Tutorial 2: Collision Avoidance"
   ]
  },
  {
   "attachments": {},
   "cell_type": "markdown",
   "metadata": {},
   "source": [
    "In *Motion Planning Tutorial 1: Plan a Path*, we talked about how to plan paths for the robot. However, in that tutorial, we didn’t take the environment model into account. The robot will avoid self-collisions (i.e., collisions between the robot links), but may collide with the environment. In this tutorial, you will learn two ways to avoid collisions:\n",
    "\n",
    "- Add environment point clouds to avoid collision\n",
    "- Attach boxes to avoid collision\n",
    "\n",
    "<a class=\"reference internal image-reference\" href=\"../assets/collision1.gif\"><img alt=\"../assets/collision1.gif\" src=\"../assets/collision1.gif\" style=\"width: 32%;\" /></a>\n",
    "<a class=\"reference internal image-reference\" href=\"../assets/collision2.gif\"><img alt=\"../assets/collision2.gif\" src=\"../assets/collision2.gif\" style=\"width: 32%;\" /></a>\n",
    "<a class=\"reference internal image-reference\" href=\"../assets/collision3.gif\"><img alt=\"../assets/collision3.gif\" src=\"../assets/collision3.gif\" style=\"width: 32%;\" /></a>\n",
    "\n",
    "The above figures show the benefit of collision avoidance:\n",
    "\n",
    "- Left: w/o point cloud, w/o attach. The robot arm hits the blue box.\n",
    "- Middle: w/ point cloud, w/o attach. The red box hits the blue box.\n",
    "- Right: w/ point cloud, w/ attach. There is no collision."
   ]
  },
  {
   "cell_type": "markdown",
   "metadata": {
    "id": "-IXA-7qRy4ML"
   },
   "source": [
    "## Preparation"
   ]
  },
  {
   "cell_type": "code",
   "execution_count": null,
   "metadata": {
    "id": "qIDL-wHKzKQ5"
   },
   "outputs": [],
   "source": [
    "%pip install sapien\n",
    "%pip install mplib\n",
    "%pip install trimesh\n",
    "\n",
    "import sapien.core as sapien\n",
    "import mplib\n",
    "import numpy as np\n",
    "import trimesh\n",
    "from sapien.utils import Viewer\n",
    "\n",
    "try:\n",
    "    import google.colab\n",
    "    IN_COLAB = True\n",
    "except:\n",
    "    IN_COLAB = False\n",
    "\n",
    "if IN_COLAB:\n",
    "    raise RuntimeError(\"The visualization of this notebook cannot be run on Colab! You need to run it locally with a GPU.\")"
   ]
  },
  {
   "attachments": {},
   "cell_type": "markdown",
   "metadata": {},
   "source": [
    "We will be using similar code in *Motion Planning Tutorial 2: Collision Avoidance*:"
   ]
  },
  {
   "cell_type": "code",
   "execution_count": null,
   "metadata": {},
   "outputs": [],
   "source": [
    "# Initialize engine and renderer\n",
    "engine = sapien.Engine()\n",
    "engine.set_log_level('critical')\n",
    "renderer = sapien.SapienRenderer()\n",
    "engine.set_renderer(renderer)\n",
    "\n",
    "# Build scene\n",
    "scene_config = sapien.SceneConfig()\n",
    "scene = engine.create_scene(scene_config)\n",
    "scene.set_timestep(1 / 240.0)\n",
    "scene.add_ground(-0.8)\n",
    "physical_material = scene.create_physical_material(1, 1, 0.0)\n",
    "scene.default_physical_material = physical_material\n",
    "\n",
    "builder = scene.create_actor_builder()\n",
    "builder.add_box_collision(half_size=[0.4, 0.4, 0.025])\n",
    "builder.add_box_visual(half_size=[0.4, 0.4, 0.025])\n",
    "table = builder.build_kinematic(name='table')\n",
    "table.set_pose(sapien.Pose([0.56, 0, - 0.025]))\n",
    "\n",
    "# boxes\n",
    "builder = scene.create_actor_builder()\n",
    "builder.add_box_collision(half_size=[0.02, 0.02, 0.06])\n",
    "builder.add_box_visual(half_size=[0.02, 0.02, 0.06], color=[1, 0, 0])\n",
    "red_cube = builder.build(name='red_cube')\n",
    "red_cube.set_pose(sapien.Pose([0.7, 0, 0.06]))\n",
    "\n",
    "builder = scene.create_actor_builder()\n",
    "builder.add_box_collision(half_size=[0.04, 0.04, 0.005])\n",
    "builder.add_box_visual(half_size=[0.04, 0.04, 0.005], color=[0, 1, 0])\n",
    "green_cube = builder.build(name='green_cube')\n",
    "green_cube.set_pose(sapien.Pose([0.4, 0.3, 0.005]))\n",
    "\n",
    "builder = scene.create_actor_builder()\n",
    "builder.add_box_collision(half_size=[0.05, 0.2, 0.1])\n",
    "builder.add_box_visual(half_size=[0.05, 0.2, 0.1], color=[0, 0, 1])\n",
    "blue_cube = builder.build(name='blue_cube')\n",
    "blue_cube.set_pose(sapien.Pose([0.55, 0, 0.1]))\n",
    "\n",
    "# Set light for visualization\n",
    "scene.set_ambient_light([0.5, 0.5, 0.5])\n",
    "scene.add_directional_light([0, 1, -1], [0.5, 0.5, 0.5], shadow=True)\n",
    "scene.add_point_light([1, 2, 2], [1, 1, 1], shadow=True)\n",
    "scene.add_point_light([1, -2, 2], [1, 1, 1], shadow=True)\n",
    "scene.add_point_light([-1, 0, 1], [1, 1, 1], shadow=True)\n",
    "\n",
    "# Load robot\n",
    "loader = scene.create_urdf_loader()\n",
    "robot = loader.load(\"../assets/panda/panda.urdf\")\n",
    "robot.set_root_pose(sapien.Pose([0, 0, 0], [1, 0, 0, 0]))\n",
    "\n",
    "# Set initial joint positions\n",
    "init_qpos = [0, 0.19634954084936207, 0.0, -2.617993877991494, 0.0, 2.941592653589793, 0.7853981633974483, 0, 0]\n",
    "robot.set_qpos(init_qpos)\n",
    "\n",
    "# Set up planner\n",
    "link_names = [link.get_name() for link in robot.get_links()]\n",
    "joint_names = [joint.get_name() for joint in robot.get_active_joints()]\n",
    "planner = mplib.Planner(\n",
    "    urdf=\"../assets/panda/panda.urdf\",\n",
    "    srdf=\"../assets/panda/panda.srdf\",\n",
    "    user_link_names=link_names,\n",
    "    user_joint_names=joint_names,\n",
    "    move_group=\"panda_hand\",\n",
    "    joint_vel_limits=np.ones(7),\n",
    "    joint_acc_limits=np.ones(7)\n",
    ")\n",
    "\n",
    "# Controller\n",
    "active_joints = robot.get_active_joints()\n",
    "for joint in active_joints:\n",
    "    joint.set_drive_property(stiffness=1000, damping=200)\n",
    "\n",
    "def follow_path(result, viewer): # parameter viewer is for later visualization\n",
    "    n_step = result['position'].shape[0]\n",
    "    for i in range(n_step):  \n",
    "        qf = robot.compute_passive_force(\n",
    "            gravity=True, \n",
    "            coriolis_and_centrifugal=True)\n",
    "        robot.set_qf(qf)\n",
    "        for j in range(7):\n",
    "            active_joints[j].set_drive_target(result['position'][i][j])\n",
    "            active_joints[j].set_drive_velocity_target(result['velocity'][i][j])\n",
    "        scene.step()\n",
    "        if i % 4 == 0:\n",
    "            scene.update_render()\n",
    "            viewer.render()\n",
    "\n",
    "def open_gripper(viewer): # parameter viewer is for later visualization\n",
    "    for joint in active_joints[-2:]:\n",
    "        joint.set_drive_target(0.4)\n",
    "    for i in range(100): \n",
    "        qf = robot.compute_passive_force(\n",
    "            gravity=True, \n",
    "            coriolis_and_centrifugal=True)\n",
    "        robot.set_qf(qf)\n",
    "        scene.step()\n",
    "        if i % 4 == 0:\n",
    "            scene.update_render()\n",
    "            viewer.render()\n",
    "\n",
    "def close_gripper(viewer): # parameter viewer is for later visualization\n",
    "    for joint in active_joints[-2:]:\n",
    "        joint.set_drive_target(0)\n",
    "    for i in range(100):  \n",
    "        qf = robot.compute_passive_force(\n",
    "            gravity=True, \n",
    "            coriolis_and_centrifugal=True)\n",
    "        robot.set_qf(qf)\n",
    "        scene.step()\n",
    "        if i % 4 == 0:\n",
    "            scene.update_render()\n",
    "            viewer.render()"
   ]
  },
  {
   "attachments": {},
   "cell_type": "markdown",
   "metadata": {},
   "source": [
    "## Add enviroment point clouds"
   ]
  },
  {
   "attachments": {},
   "cell_type": "markdown",
   "metadata": {},
   "source": [
    "One way to model the environment and avoid collision is through point clouds. The point cloud may come from the sensor observations or be sampled from the mesh surfaces. For example, we can add a point cloud for the blue box with `planner.update_point_cloud()`:"
   ]
  },
  {
   "cell_type": "code",
   "execution_count": null,
   "metadata": {},
   "outputs": [],
   "source": [
    "def add_point_cloud():\n",
    "    box = trimesh.creation.box([0.1, 0.4, 0.2])\n",
    "    points, _ = trimesh.sample.sample_surface(box, 1000)\n",
    "    points += [0.55, 0, 0.1]\n",
    "    planner.update_point_cloud(points)\n",
    "    return"
   ]
  },
  {
   "attachments": {},
   "cell_type": "markdown",
   "metadata": {},
   "source": [
    "`planner.update_point_cloud()` takes two arguments. The first one is a NumPy array of shape $n \\times 3$, which describes the coordinates of the points. **The coordinates should be represented in the frame of the robot arm’s root link**. The second (optional) argument is `resolution = 1e-3`, which describes the resolution of each point.\n",
    "\n",
    "After adding the point cloud, we can avoid collisions between the robot and the point cloud by setting `use_point_cloud` to be True. Both `planner.plan()` and `planner.plan_screw()` support this flag:"
   ]
  },
  {
   "cell_type": "code",
   "execution_count": null,
   "metadata": {},
   "outputs": [],
   "source": [
    "def move_to_pose(pose, use_point_cloud, use_attach, viewer):\n",
    "    result = planner.plan_screw(pose, robot.get_qpos(), time_step=1/250,\n",
    "                                    use_point_cloud=use_point_cloud, use_attach=use_attach)\n",
    "    if result['status'] != \"Success\":\n",
    "        result = planner.plan(pose, robot.get_qpos(), time_step=1/250,\n",
    "                                    use_point_cloud=use_point_cloud, use_attach=use_attach)\n",
    "        if result['status'] != \"Success\":\n",
    "            print(result['status'])\n",
    "            return -1 \n",
    "    follow_path(result, viewer)\n",
    "    return 0"
   ]
  },
  {
   "attachments": {},
   "cell_type": "markdown",
   "metadata": {},
   "source": [
    "You don’t need to provide the point cloud for each `planner.plan()` or `planner.plan_screw()` call. You can use `planner.update_point_cloud()` to update the point cloud once it’s changed.\n",
    "\n",
    "> Note: Please remember to remove the points of the robot arm if the points come from the sensor observation. Otherwise, there will always be collisions, and the planner may fail to plan a valid path."
   ]
  },
  {
   "attachments": {},
   "cell_type": "markdown",
   "metadata": {},
   "source": [
    "## Attach a box"
   ]
  },
  {
   "attachments": {},
   "cell_type": "markdown",
   "metadata": {},
   "source": [
    "As shown in the above figure (middle one), after adding the point cloud of the blue box, the robot will not collide with it. However, the red box moves with the robot, and it may still collide with the blue box. To address this issue, we can attach a box to the robot, so that we can avoid the collision between the attached box and the environment point cloud:"
   ]
  },
  {
   "cell_type": "code",
   "execution_count": null,
   "metadata": {},
   "outputs": [],
   "source": [
    "def attach_box(planner):\n",
    "    planner.update_attached_box([0.04, 0.04, 0.12], [0, 0, 0.14, 1, 0, 0, 0])"
   ]
  },
  {
   "attachments": {},
   "cell_type": "markdown",
   "metadata": {},
   "source": [
    "`planner.update_attached_box()` takes three arguments:\n",
    "\n",
    "- `size`: a list with three elements indicates the size of the attached box.\n",
    "- `pose`: a list with seven elements indicates the relative pose from the box to the attached link. The first three elements describe the position part, and the remaining four elements describe the quaternion (wxyz) for the rotation part.\n",
    "- `link_id` = -1: optional, an integer indicates the id of the link that the box is attached to. The link id is determined by the `user_link_names` (during Configuration), and starts from 0. The default value -1 indicates the `move_group` link.\n",
    "\n",
    "After adding the attached box, we can avoid collisions between the attached box and the point cloud by setting both `use_point_cloud` and `use_attach` to be True. Both `planner.plan()` and `planner.plan_screw()` support the flags.\n",
    "\n",
    "You can use `planner.update_attached_box()` to update the box once it’s changed.\n",
    "\n",
    "As shown in the above figure (the right one), after adding the point cloud of the blue box and attaching the red box to the `move_group` link, there is no collision."
   ]
  },
  {
   "attachments": {},
   "cell_type": "markdown",
   "metadata": {},
   "source": [
    "## Visualization"
   ]
  },
  {
   "attachments": {},
   "cell_type": "markdown",
   "metadata": {},
   "source": [
    "You can adjust the `use_point_cloud` flag and `use_attach` flag to expore different behaviors of the robot."
   ]
  },
  {
   "cell_type": "code",
   "execution_count": null,
   "metadata": {},
   "outputs": [],
   "source": [
    "def demo(planner, use_point_cloud, use_attach, viewer):\n",
    "    pickup_pose = [0.7, 0, 0.12, 0, 1, 0, 0]\n",
    "    delivery_pose = [0.4, 0.3, 0.13, 0, 1, 0, 0]\n",
    "    \n",
    "    if use_point_cloud:\n",
    "        add_point_cloud()\n",
    "    \n",
    "    pickup_pose[2] += 0.2\n",
    "    move_to_pose(pickup_pose, use_point_cloud, False, viewer) \n",
    "    open_gripper(viewer)\n",
    "    pickup_pose[2] -= 0.12\n",
    "    move_to_pose(pickup_pose, use_point_cloud, False, viewer)\n",
    "    close_gripper(viewer)\n",
    "\n",
    "    if use_attach:\n",
    "        attach_box(planner)\n",
    "\n",
    "    pickup_pose[2] += 0.12\n",
    "    move_to_pose(pickup_pose, use_point_cloud, use_attach, viewer)\n",
    "    delivery_pose[2] += 0.2\n",
    "    move_to_pose(delivery_pose, use_point_cloud, use_attach, viewer)\n",
    "    delivery_pose[2] -= 0.12\n",
    "    move_to_pose(delivery_pose, use_point_cloud, use_attach, viewer)\n",
    "    open_gripper(viewer)\n",
    "    delivery_pose[2] += 0.12\n",
    "    move_to_pose(delivery_pose, use_point_cloud, use_attach, viewer)"
   ]
  },
  {
   "cell_type": "code",
   "execution_count": null,
   "metadata": {},
   "outputs": [],
   "source": [
    "viewer = Viewer(renderer)\n",
    "viewer.set_scene(scene)\n",
    "viewer.set_camera_xyz(x=1.2, y=0.25, z=0.4)\n",
    "viewer.set_camera_rpy(r=0, p=-0.4, y=2.7)\n",
    "\n",
    "demo(planner, use_point_cloud=True, use_attach=True, viewer=viewer)\n",
    "\n",
    "viewer.close()"
   ]
  }
 ],
 "metadata": {
  "kernelspec": {
   "display_name": "sapien",
   "language": "python",
   "name": "python3"
  },
  "language_info": {
   "codemirror_mode": {
    "name": "ipython",
    "version": 3
   },
   "file_extension": ".py",
   "mimetype": "text/x-python",
   "name": "python",
   "nbconvert_exporter": "python",
   "pygments_lexer": "ipython3",
   "version": "3.9.13"
  },
  "orig_nbformat": 4,
  "vscode": {
   "interpreter": {
    "hash": "52cc33f0f2a37b136af3b056cd1b16fcde515625a8da3d7221199fda542f2c7a"
   }
  }
 },
 "nbformat": 4,
 "nbformat_minor": 2
}
